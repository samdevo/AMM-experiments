{
 "cells": [
  {
   "cell_type": "code",
   "execution_count": 159,
   "metadata": {},
   "outputs": [],
   "source": [
    "import random\n",
    "class AMM:\n",
    "    def __init__(self):\n",
    "        self.R = [random.randint(10,1000), random.randint(10,1000)]\n",
    "        self.cp = round(float(self.R[0] * self.R[1]), 2)\n",
    "\n",
    "    def __repr__(self):\n",
    "        return f\"AMM R={self.R}, cp={self.cp}\"\n",
    "    \n",
    "\n",
    "    def price(self, output_pool, output_amount):\n",
    "        input_pool = int(not output_pool)\n",
    "        if self.R[output_pool] < output_amount:\n",
    "            raise Exception(\"insufficient inventory\")\n",
    "        price = output_amount * self.R[input_pool] / (self.R[output_pool] - output_amount)\n",
    "        new_cp = (self.R[output_pool] - output_amount) * (self.R[input_pool] + price)\n",
    "        assert round(new_cp, 2) == self.cp, f\"constant product violated: expected: {self.cp}, actual: {new_cp}\"\n",
    "        return price\n",
    "    \n",
    "    def quote(self, input_pool, input_amount):\n",
    "        output_pool = int(not input_pool)\n",
    "        quote = input_amount * self.R[output_pool] / (self.R[input_pool] + input_amount)\n",
    "        new_cp = (self.R[output_pool] - quote) * (self.R[input_pool] + input_amount)\n",
    "        assert round(new_cp, 2) == self.cp, f\"constant product violated: expected: {self.cp}, actual: {new_cp}\"\n",
    "        return quote\n",
    "    \n",
    "    def buy(self, output_pool, output_amount):\n",
    "        input_pool = int(not output_pool)\n",
    "        price = self.price(output_pool, output_amount)\n",
    "        print(\"----\")\n",
    "        print(f\"original: {self}\")\n",
    "        self.R[input_pool] += price\n",
    "        self.R[output_pool] -= output_amount\n",
    "        print(f\"after:    {self}\")"
   ]
  },
  {
   "cell_type": "code",
   "execution_count": 160,
   "metadata": {},
   "outputs": [],
   "source": [
    "amms = [AMM() for _ in range(1000)]"
   ]
  },
  {
   "cell_type": "code",
   "execution_count": 165,
   "metadata": {},
   "outputs": [
    {
     "data": {
      "text/plain": [
       "AMM R=[573, 712], cp=407976.0"
      ]
     },
     "execution_count": 165,
     "metadata": {},
     "output_type": "execute_result"
    }
   ],
   "source": [
    "amms[2]"
   ]
  },
  {
   "cell_type": "code",
   "execution_count": 166,
   "metadata": {},
   "outputs": [
    {
     "data": {
      "text/plain": [
       "534.9141150112024"
      ]
     },
     "execution_count": 166,
     "metadata": {},
     "output_type": "execute_result"
    }
   ],
   "source": [
    "amms[2].quote(1,10000)"
   ]
  },
  {
   "cell_type": "code",
   "execution_count": 145,
   "metadata": {},
   "outputs": [
    {
     "name": "stdout",
     "output_type": "stream",
     "text": [
      "price: 0.6110979449504012\n",
      "----\n",
      "original: AMM R=[38, 3159.1578947368425], cp=120048.0\n",
      "after:    AMM R=[38.6110979449504, 3109.1578947368425], cp=120048.0\n"
     ]
    }
   ],
   "source": [
    "amms[3].buy(1, 50)"
   ]
  },
  {
   "cell_type": "code",
   "execution_count": null,
   "metadata": {},
   "outputs": [],
   "source": []
  }
 ],
 "metadata": {
  "kernelspec": {
   "display_name": "Python 3",
   "language": "python",
   "name": "python3"
  },
  "language_info": {
   "codemirror_mode": {
    "name": "ipython",
    "version": 3
   },
   "file_extension": ".py",
   "mimetype": "text/x-python",
   "name": "python",
   "nbconvert_exporter": "python",
   "pygments_lexer": "ipython3",
   "version": "3.11.2"
  },
  "orig_nbformat": 4
 },
 "nbformat": 4,
 "nbformat_minor": 2
}
