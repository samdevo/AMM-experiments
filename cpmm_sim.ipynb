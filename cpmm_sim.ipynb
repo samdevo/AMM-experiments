{
 "cells": [
  {
   "cell_type": "code",
   "execution_count": 38,
   "metadata": {},
   "outputs": [
    {
     "data": {
      "text/plain": [
       "22"
      ]
     },
     "execution_count": 38,
     "metadata": {},
     "output_type": "execute_result"
    }
   ],
   "source": [
    "N_AMMS = 1000\n",
    "EPSILON = 1e-4\n",
    "\n",
    "import random\n",
    "class AMM:\n",
    "    def __init__(self):\n",
    "        self.D = random.randint(10,1000)\n",
    "        self.T = random.randint(10,1000)\n",
    "        self.C = self.D * self.T\n",
    "\n",
    "    def __repr__(self):\n",
    "        return f\"AMM ({self.D}, {self.T}) - C = {self.C}\"\n",
    "    \n",
    "\n",
    "AMMs = [AMM() for _ in range(N_AMMS)]\n",
    "\n",
    "def arbitrage(amm1, amm2):\n",
    "    Di, Ti, Ci = amm1.D, amm1.T, amm1.C\n",
    "    Dj, Tj, Cj = amm2.D, amm2.T, amm2.C\n",
    "    # print(f\"original: ({Di}, {Ti}), ({Dj}, {Tj})\")\n",
    "    # note: the \"rewritten\" formula from the PDF wasn't working, so I used the non-simplified version of the formula\n",
    "    dDi = ((Ci*Cj)**.5 - Di * Tj) / (Ti + Tj)\n",
    "    dTi = Ci / (Di + dDi) - Ti\n",
    "    dTj = -dTi\n",
    "    dDj = Cj / (Tj + dTj) - Dj\n",
    "    # print(f\"change: ({dDi}, {dTi}), ({dDj}, {dTj})\")\n",
    "    amm1.D, amm1.T, amm2.D, amm2.T = Di+dDi, Ti+dTi, Dj+dDj, Tj+dTj\n",
    "    # print(f\"new: ({amm1.D}, {amm1.T}), ({amm2.D}, {amm2.T})\")\n",
    "    assert abs(amm1.D*amm1.T - amm1.C) < 1e-2, f\"constant product violated: expected: {Ci}, actual: {amm1.D*amm1.T}\"\n",
    "    assert abs(amm2.D*amm2.T - amm2.C) < 1e-2, f\"constant product violated: expected: {Cj}, actual: {amm2.D*amm2.T}\"\n",
    "    assert abs(amm1.D / amm1.T - amm2.D / amm2.T) < 1e-7, f\"prices should be equal: {amm1.D / amm1.T}, {amm2.D / amm2.T}\"\n",
    "    # print(f\"profit: ${-(dDi + dDj)}\")\n",
    "\n",
    "def are_balanced(amms, epsilon):\n",
    "    min_price = min(amm.D / amm.T for amm in amms)\n",
    "    max_price = max(amm.D / amm.T for amm in amms)\n",
    "    # print(f\"min price: {min_price}, max price: {max_price}\")\n",
    "    return max_price / min_price - 1 < epsilon\n",
    "\n",
    "i = 0\n",
    "while not are_balanced(AMMs, EPSILON):\n",
    "    i += 1\n",
    "    random.shuffle(AMMs)\n",
    "    for amm1, amm2 in zip(AMMs[:-1], AMMs[1:]):\n",
    "        arbitrage(amm1, amm2)\n",
    "i"
   ]
  },
  {
   "cell_type": "markdown",
   "metadata": {},
   "source": [
    "#### Old implementation before using the formula for delta D:"
   ]
  },
  {
   "cell_type": "code",
   "execution_count": 30,
   "metadata": {},
   "outputs": [],
   "source": [
    "import random\n",
    "class AMM:\n",
    "    def __init__(self):\n",
    "        self.R = [random.randint(10,1000), random.randint(10,1000)]\n",
    "        self.cp = round(float(self.R[0] * self.R[1]), 2)\n",
    "\n",
    "    def __repr__(self):\n",
    "        return f\"AMM R={self.R}, cp={self.cp}\"\n",
    "\n",
    "    def price(self, output_pool, output_amount):\n",
    "        input_pool = int(not output_pool)\n",
    "        if self.R[output_pool] <= output_amount:\n",
    "            return float('inf')\n",
    "        price = output_amount * self.R[input_pool] / (self.R[output_pool] - output_amount)\n",
    "        new_cp = (self.R[output_pool] - output_amount) * (self.R[input_pool] + price)\n",
    "        assert round(new_cp, 2) == self.cp, f\"constant product violated: expected: {self.cp}, actual: {new_cp}\"\n",
    "        return price\n",
    "    \n",
    "    def quote(self, input_pool, input_amount):\n",
    "        output_pool = int(not input_pool)\n",
    "        quote = input_amount * self.R[output_pool] / (self.R[input_pool] + input_amount)\n",
    "        new_cp = (self.R[output_pool] - quote) * (self.R[input_pool] + input_amount)\n",
    "        assert round(new_cp, 2) == self.cp, f\"constant product violated: expected: {self.cp}, actual: {new_cp}\"\n",
    "        return quote\n",
    "    \n",
    "    def buy(self, purchased_pool, purchase_amount, trader=None):\n",
    "        spent_pool = int(not purchased_pool)\n",
    "        price = self.price(purchased_pool, purchase_amount)\n",
    "        # print(f\"original: {self}\")\n",
    "        self.R[spent_pool] += price\n",
    "        self.R[purchased_pool] -= purchase_amount\n",
    "        if trader:\n",
    "            trader.B[spent_pool] -= price\n",
    "            trader.B[purchased_pool] += purchase_amount"
   ]
  },
  {
   "cell_type": "code",
   "execution_count": 31,
   "metadata": {},
   "outputs": [],
   "source": [
    "# just to make sure that the trader is making a profit for debugging\n",
    "class Trader:\n",
    "    def __init__(self):\n",
    "        self.B = [0,0]\n",
    "    \n",
    "t = Trader()"
   ]
  },
  {
   "cell_type": "code",
   "execution_count": 32,
   "metadata": {},
   "outputs": [],
   "source": [
    "amms = [AMM() for _ in range(1000)]\n",
    "AMOUNT = 0.2\n",
    "def arbitrage(amm1, amm2):\n",
    "    # trade AMOUNT units of either currency as long as there is an arbitrage opportunity\n",
    "    while True:\n",
    "        # price of currency 1\n",
    "        i0 = amm1.price(1, AMOUNT)\n",
    "        # output of currency 0 from 1 of currency 1\n",
    "        o0 = amm2.quote(1, AMOUNT)\n",
    "        if o0 - i0 > 0:\n",
    "            # spend (0, i0), get (1,1)\n",
    "            amm1.buy(1, AMOUNT, t)\n",
    "            # spend (1,1), get (0, o0). the price will be (1,1), which we just bought\n",
    "            amm2.buy(0, o0, t)\n",
    "            # print(f\"profit: {o0-i0} of currency 0\")\n",
    "            continue\n",
    "        # price of currency 1\n",
    "        i1 = amm1.price(0, AMOUNT)\n",
    "        # output of currency 0 from 1 of currency 1\n",
    "        o1 = amm2.quote(0, AMOUNT)\n",
    "        if o1 - i1 > 0:\n",
    "            # spend (0, i0), get (1,1)\n",
    "            amm1.buy(0, AMOUNT, t)\n",
    "            # spend (1,1), get (0, o0). the price will be (1,1), which we just bought\n",
    "            amm2.buy(1, o1, t)\n",
    "            # print(f\"profit: {o0-i0} of currency 0\")\n",
    "            continue\n",
    "        break"
   ]
  },
  {
   "cell_type": "code",
   "execution_count": 33,
   "metadata": {},
   "outputs": [
    {
     "name": "stdout",
     "output_type": "stream",
     "text": [
      "759 outside bounds\n"
     ]
    },
    {
     "data": {
      "text/plain": [
       "False"
      ]
     },
     "execution_count": 33,
     "metadata": {},
     "output_type": "execute_result"
    }
   ],
   "source": [
    "def is_balanced(amms, epsilon):\n",
    "    avg_ratio = sum(amm.R[0] / amm.R[1] for amm in amms) / len(amms)\n",
    "    outside_bounds = sum(abs(amm.R[0] / amm.R[1] - avg_ratio) > epsilon for amm in amms)\n",
    "    print(f\"{outside_bounds} outside bounds\")\n",
    "    return outside_bounds == 0\n",
    "is_balanced(amms, 1)"
   ]
  },
  {
   "cell_type": "code",
   "execution_count": 34,
   "metadata": {},
   "outputs": [
    {
     "name": "stdout",
     "output_type": "stream",
     "text": [
      "998 outside bounds\n",
      "0\n",
      "987 outside bounds\n",
      "1\n",
      "983 outside bounds\n",
      "2\n",
      "945 outside bounds\n",
      "3\n",
      "904 outside bounds\n",
      "4\n",
      "842 outside bounds\n",
      "5\n",
      "745 outside bounds\n",
      "6\n",
      "581 outside bounds\n",
      "7\n",
      "368 outside bounds\n",
      "8\n",
      "124 outside bounds\n",
      "9\n",
      "23 outside bounds\n",
      "10\n",
      "4 outside bounds\n",
      "11\n",
      "0 outside bounds\n"
     ]
    }
   ],
   "source": [
    "j = 0\n",
    "while not is_balanced(amms, 1e-2):\n",
    "    random.shuffle(amms)\n",
    "    print(j)\n",
    "    j += 1\n",
    "    for amm1, amm2 in zip(amms[:-1], amms[1:]):\n",
    "        arbitrage(amm1, amm2)"
   ]
  },
  {
   "cell_type": "markdown",
   "metadata": {},
   "source": []
  }
 ],
 "metadata": {
  "kernelspec": {
   "display_name": "Python 3",
   "language": "python",
   "name": "python3"
  },
  "language_info": {
   "codemirror_mode": {
    "name": "ipython",
    "version": 3
   },
   "file_extension": ".py",
   "mimetype": "text/x-python",
   "name": "python",
   "nbconvert_exporter": "python",
   "pygments_lexer": "ipython3",
   "version": "3.11.2"
  },
  "orig_nbformat": 4
 },
 "nbformat": 4,
 "nbformat_minor": 2
}
