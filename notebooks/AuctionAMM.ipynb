{
 "cells": [
  {
   "cell_type": "code",
   "execution_count": 155,
   "metadata": {},
   "outputs": [],
   "source": [
    "from scipy.integrate import quad\n",
    "from collections import deque\n",
    "from dataclasses import dataclass\n",
    "from typing import NamedTuple, Callable\n",
    "\n",
    "class Position(NamedTuple):\n",
    "    owner: str\n",
    "    X_start: float\n",
    "    displacement: float\n",
    "    price: float\n",
    "\n",
    "    # round to 2 decimal places\n",
    "    def __repr__(self) -> str:\n",
    "        return f\"Position(owner={self.owner}, X_start={round(self.X_start, 2)}, displacement={round(self.displacement, 2)}, price={round(self.price, 2)})\"\n",
    "\n",
    "\n",
    "\n",
    "\n",
    "# cost of buying d portion of the asset starting at X_0\n",
    "def price(X_0, d, marginal_price):\n",
    "    ans, _ = quad(marginal_price, X_0, X_0 + d)\n",
    "    return ans\n",
    "\n",
    "class AuctionAmm:\n",
    "    def __init__(self, marginal_price, X_init):\n",
    "        self.marginal_price: Callable[[float], float] = marginal_price\n",
    "        self.X = X_init\n",
    "        self.owners: deque[Position] = deque()\n",
    "        self.balance = 0\n",
    "\n",
    "    def print(self) -> str:\n",
    "        # print self.X, self.balance, and self.owners line by line\n",
    "        print(f\"AuctionAmm(X={self.X}, balance={self.balance}\")\n",
    "        for position in self.owners:\n",
    "            print(position)\n",
    "\n",
    "        # return f\"AuctionAmm(X={self.X}, balance={self.balance}, owners={self.owners})\"\n",
    "    \n",
    "\n",
    "    # integral of price function from self.X to self.X + d\n",
    "    def buy(self, owner, d):\n",
    "        assert 0 < d <= 1, \"d must be in (0, 1]\"\n",
    "        p = price(self.X, d, self.marginal_price)\n",
    "        self.balance += p\n",
    "        \n",
    "        window_start = self.X + d - 1\n",
    "        while self.owners:\n",
    "            first_owner, first_X_0, first_d, first_p = self.owners[0]\n",
    "            first_X_end = first_X_0 + first_d\n",
    "            if first_X_0 > window_start:\n",
    "                break\n",
    "            if first_X_end <= window_start:\n",
    "                self.owners.popleft()\n",
    "                self.balance -= price(first_X_0, first_d, self.marginal_price)\n",
    "                continue\n",
    "            # X_0 < window_start < X_end\n",
    "            new_d = first_X_end - window_start\n",
    "            new_price = price(window_start, new_d, self.marginal_price)\n",
    "            refund = first_p - new_price\n",
    "            self.balance -= refund\n",
    "            self.owners[0] = Position(first_owner, window_start, new_d, new_price)   \n",
    "            break \n",
    "\n",
    "        \n",
    "        if self.owners:\n",
    "            last_owner, last_X_0, last_d, last_p = self.owners[-1]\n",
    "            if last_owner == owner:\n",
    "                new_pos = Position(owner, last_X_0, d + last_d, p + last_p)\n",
    "                assert abs(new_pos.X_start + new_pos.displacement - (self.X + d)) < 1e-2, f\"error in displacement calculation: {new_pos.X_start} + {new_pos.displacement} != {self.X + d}\"\n",
    "                price_calculated = price(new_pos.X_start, new_pos.displacement, self.marginal_price)\n",
    "                assert abs(new_pos.price - price_calculated) < 1e-2, f\"error in price calculation: {new_pos.price} != {price_calculated}\"\n",
    "                self.owners[-1] = new_pos\n",
    "                self.X += d\n",
    "                return new_pos\n",
    "        new_pos = Position(owner, self.X, d, p)\n",
    "        self.owners.append(new_pos)\n",
    "        self.X += d\n",
    "\n",
    "        return new_pos\n",
    "        "
   ]
  },
  {
   "cell_type": "code",
   "execution_count": 156,
   "metadata": {},
   "outputs": [
    {
     "data": {
      "text/plain": [
       "<__main__.AuctionAmm at 0x7fa7898bed00>"
      ]
     },
     "execution_count": 156,
     "metadata": {},
     "output_type": "execute_result"
    }
   ],
   "source": [
    "amm = AuctionAmm(\n",
    "    lambda x: x, 1\n",
    ")\n",
    "\n",
    "amm"
   ]
  },
  {
   "cell_type": "code",
   "execution_count": 157,
   "metadata": {},
   "outputs": [
    {
     "data": {
      "text/plain": [
       "Position(owner=devo, X_start=2.5, displacement=0.3, price=0.79)"
      ]
     },
     "execution_count": 157,
     "metadata": {},
     "output_type": "execute_result"
    }
   ],
   "source": [
    "amm.buy(\"dice\", 0.5)\n",
    "amm.buy(\"dice\", 0.5)\n",
    "amm.buy(\"dice\", 0.5)\n",
    "amm.buy(\"devo\", 0.3)"
   ]
  },
  {
   "cell_type": "code",
   "execution_count": 158,
   "metadata": {},
   "outputs": [
    {
     "name": "stdout",
     "output_type": "stream",
     "text": [
      "AuctionAmm(X=2.8, balance=2.3\n",
      "Position(owner=dice, X_start=1.8, displacement=0.7, price=1.51)\n",
      "Position(owner=devo, X_start=2.5, displacement=0.3, price=0.79)\n",
      "AuctionAmm(X=3.0999999999999996, balance=2.6\n",
      "Position(owner=dice, X_start=2.1, displacement=0.4, price=0.92)\n",
      "Position(owner=devo, X_start=2.5, displacement=0.6, price=1.68)\n"
     ]
    }
   ],
   "source": [
    "amm.print()\n",
    "amm.buy(\"devo\", 0.3)\n",
    "amm.print()"
   ]
  },
  {
   "cell_type": "code",
   "execution_count": 159,
   "metadata": {},
   "outputs": [],
   "source": [
    "amm2 = AuctionAmm(\n",
    "    lambda x: 2**x, 1\n",
    ")"
   ]
  },
  {
   "cell_type": "code",
   "execution_count": 161,
   "metadata": {},
   "outputs": [
    {
     "name": "stdout",
     "output_type": "stream",
     "text": [
      "AuctionAmm(X=3.0999999999999996, balance=2.6\n",
      "Position(owner=dice, X_start=2.1, displacement=0.4, price=0.92)\n",
      "Position(owner=devo, X_start=2.5, displacement=0.6, price=1.68)\n"
     ]
    }
   ],
   "source": [
    "amm2.buy(\"dice\", 1)\n",
    "amm2.print()"
   ]
  },
  {
   "cell_type": "code",
   "execution_count": 163,
   "metadata": {},
   "outputs": [
    {
     "name": "stdout",
     "output_type": "stream",
     "text": [
      "AuctionAmm(X=3, balance=5.770780163555853\n",
      "Position(owner=dice, X_start=2, displacement=1, price=5.77)\n",
      "AuctionAmm(X=3.5, balance=8.161115572774316\n",
      "Position(owner=dice, X_start=2.5, displacement=0.5, price=3.38)\n",
      "Position(owner=devo, X_start=3, displacement=0.5, price=4.78)\n"
     ]
    }
   ],
   "source": [
    "amm2.print()\n",
    "amm2.buy(\"devo\", 0.5)\n",
    "amm2.print()"
   ]
  },
  {
   "cell_type": "code",
   "execution_count": 165,
   "metadata": {},
   "outputs": [
    {
     "data": {
      "text/plain": [
       "Position(owner=drew, X_start=3.5, displacement=0.1, price=1.17)"
      ]
     },
     "execution_count": 165,
     "metadata": {},
     "output_type": "execute_result"
    }
   ],
   "source": [
    "amm2.buy(\"drew\", 0.1)"
   ]
  },
  {
   "cell_type": "code",
   "execution_count": 166,
   "metadata": {},
   "outputs": [
    {
     "name": "stdout",
     "output_type": "stream",
     "text": [
      "AuctionAmm(X=3.6, balance=8.746867095591194\n",
      "Position(owner=dice, X_start=2.6, displacement=0.4, price=2.79)\n",
      "Position(owner=devo, X_start=3, displacement=0.5, price=4.78)\n",
      "Position(owner=drew, X_start=3.5, displacement=0.1, price=1.17)\n"
     ]
    }
   ],
   "source": [
    "amm2.print()"
   ]
  },
  {
   "cell_type": "code",
   "execution_count": 167,
   "metadata": {},
   "outputs": [
    {
     "data": {
      "text/plain": [
       "Position(owner=axel, X_start=3.6, displacement=1, price=17.49)"
      ]
     },
     "execution_count": 167,
     "metadata": {},
     "output_type": "execute_result"
    }
   ],
   "source": [
    "amm2.buy(\"axel\", 1)"
   ]
  },
  {
   "cell_type": "code",
   "execution_count": 168,
   "metadata": {},
   "outputs": [
    {
     "name": "stdout",
     "output_type": "stream",
     "text": [
      "AuctionAmm(X=4.6, balance=17.493734191182373\n",
      "Position(owner=drew, X_start=3.6, displacement=0.0, price=0.0)\n",
      "Position(owner=axel, X_start=3.6, displacement=1, price=17.49)\n"
     ]
    }
   ],
   "source": [
    "amm2.print()"
   ]
  },
  {
   "cell_type": "code",
   "execution_count": 169,
   "metadata": {},
   "outputs": [],
   "source": [
    "a = AuctionAmm(\n",
    "\n",
    "    lambda x: x, 1\n",
    ")"
   ]
  },
  {
   "cell_type": "code",
   "execution_count": 170,
   "metadata": {},
   "outputs": [
    {
     "data": {
      "text/plain": [
       "Position(owner=pinky, X_start=1, displacement=1, price=1.5)"
      ]
     },
     "execution_count": 170,
     "metadata": {},
     "output_type": "execute_result"
    }
   ],
   "source": [
    "a.buy(\"pinky\", 1)"
   ]
  },
  {
   "cell_type": "code",
   "execution_count": 171,
   "metadata": {},
   "outputs": [
    {
     "name": "stdout",
     "output_type": "stream",
     "text": [
      "AuctionAmm(X=2, balance=1.5\n",
      "Position(owner=pinky, X_start=1, displacement=1, price=1.5)\n"
     ]
    }
   ],
   "source": [
    "a.print()"
   ]
  },
  {
   "cell_type": "code",
   "execution_count": 172,
   "metadata": {},
   "outputs": [
    {
     "data": {
      "text/plain": [
       "Position(owner=dice, X_start=2, displacement=0.5, price=1.12)"
      ]
     },
     "execution_count": 172,
     "metadata": {},
     "output_type": "execute_result"
    }
   ],
   "source": [
    "a.buy(\"dice\", 0.5)"
   ]
  },
  {
   "cell_type": "code",
   "execution_count": 173,
   "metadata": {},
   "outputs": [
    {
     "name": "stdout",
     "output_type": "stream",
     "text": [
      "AuctionAmm(X=2.5, balance=2.0\n",
      "Position(owner=pinky, X_start=1.5, displacement=0.5, price=0.88)\n",
      "Position(owner=dice, X_start=2, displacement=0.5, price=1.12)\n"
     ]
    }
   ],
   "source": [
    "a.print()"
   ]
  },
  {
   "cell_type": "code",
   "execution_count": 174,
   "metadata": {},
   "outputs": [
    {
     "data": {
      "text/plain": [
       "Position(owner=larry, X_start=2.5, displacement=0.1, price=0.26)"
      ]
     },
     "execution_count": 174,
     "metadata": {},
     "output_type": "execute_result"
    }
   ],
   "source": [
    "a.buy(\"larry\", 0.1)"
   ]
  },
  {
   "cell_type": "code",
   "execution_count": 175,
   "metadata": {},
   "outputs": [
    {
     "name": "stdout",
     "output_type": "stream",
     "text": [
      "AuctionAmm(X=2.6, balance=2.1\n",
      "Position(owner=pinky, X_start=1.6, displacement=0.4, price=0.72)\n",
      "Position(owner=dice, X_start=2, displacement=0.5, price=1.12)\n",
      "Position(owner=larry, X_start=2.5, displacement=0.1, price=0.26)\n"
     ]
    }
   ],
   "source": [
    "a.print()"
   ]
  },
  {
   "cell_type": "code",
   "execution_count": null,
   "metadata": {},
   "outputs": [],
   "source": []
  }
 ],
 "metadata": {
  "kernelspec": {
   "display_name": "base",
   "language": "python",
   "name": "python3"
  },
  "language_info": {
   "codemirror_mode": {
    "name": "ipython",
    "version": 3
   },
   "file_extension": ".py",
   "mimetype": "text/x-python",
   "name": "python",
   "nbconvert_exporter": "python",
   "pygments_lexer": "ipython3",
   "version": "3.9.13"
  }
 },
 "nbformat": 4,
 "nbformat_minor": 2
}
